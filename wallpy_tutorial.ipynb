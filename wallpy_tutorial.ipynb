{
 "cells": [
  {
   "cell_type": "markdown",
   "metadata": {
    "editable": true,
    "slideshow": {
     "slide_type": "slide"
    },
    "tags": []
   },
   "source": [
    "# What is WallPy?\n",
    "WallPy provides the functionality to directly retrieve raw data and necessary metadata from almost any SPM scan without having to learn Gwyddion and using the GUI in a repetitive and tedious manner. \n",
    "It can directly convert Cypher's .ibw-files to .h5-format, while for other file formats, manual exportation to the .gwy-file format using Gwyddion is necessary. \n",
    "Anyway, once a file instance is initiated, WallPy allows for efficient post-processing of SPM scans that can be stored in the .h5-format. \n",
    "Currently, however, WallPy's main functionality is visual presentation of SPM data. It features an overhead to matplotlib, where either single figure or multi-figures can be created. \n",
    "Each Ax within a figure may then be plotted, formatted etc. in a slightly more efficient manner than from the perspective of matplotlib, through the implementation of **kwargs and re-usable functions.\n",
    "As a part of the package, SEM and FIB images stored as .tiff/.tif, are also supported. \n",
    "\n",
    "\n"
   ]
  },
  {
   "cell_type": "markdown",
   "metadata": {
    "editable": true,
    "slideshow": {
     "slide_type": "slide"
    },
    "tags": []
   },
   "source": [
    "# Installation\n",
    "\n",
    "### Open anaconda prompt or similar cmd. \n",
    "\n",
    "Because of old dependencies etc., please create a new conda environment. \\\n",
    "conda create --name (name_of_env)\n",
    "\n",
    "Everything can be done directly from the .yml file found in the folder:\\\n",
    "conda env create -f environment.yml\n",
    "\n",
    "If you created an empty environment, install the required packages using pip OR conda:\\\n",
    "pip install -r requirements.txt \\\n",
    "conda install --file requirements.txt\n",
    "\n",
    "NB! Note that the mentioned .yml-file includes hystorian, which is not necessary if not reading .ibw-files. Instead, when you manually export your spm-files to .gwy-format, the following environment files may be used to enjoy a newer version of python (Recommended for my students TMT4515):\n",
    "\n",
    "conda env create -f TMT4515_environment.yml \\\n",
    "pip install -r TMT4515_requirements.txt\n",
    "\n",
    "If you choose to use the TMT4515_environment.yml, find the other attached the tutorial/example of usage. \\\n"
   ]
  },
  {
   "cell_type": "markdown",
   "metadata": {
    "editable": true,
    "slideshow": {
     "slide_type": "slide"
    },
    "tags": []
   },
   "source": [
    "# Everything you need to know\n",
    "1. Imports\n",
    "1. Initiate File-object\n",
    "2. Initiate Figure object\n",
    "3. Use pre-defined plotting functions or custom plotting to fill the initiated Axes.\n",
    "4. Add attributes of your choosing."
   ]
  },
  {
   "cell_type": "markdown",
   "metadata": {},
   "source": [
    "### 1. Imports"
   ]
  },
  {
   "cell_type": "code",
   "execution_count": 1,
   "metadata": {
    "editable": true,
    "slideshow": {
     "slide_type": "subslide"
    },
    "tags": []
   },
   "outputs": [],
   "source": [
    "import os\n",
    "import sys\n",
    "\n",
    "#TODO: Fix to this works from wherever. \n",
    "sys.path.append(os.path.join(os.getcwd(), \"IO\"))\n",
    "sys.path.append(os.path.join(os.getcwd(), \"Display\"))\n",
    "sys.path.append(os.path.join(os.getcwd(), \"Functionality\"))\n",
    "\n",
    "from IO.classes import CypherBatch, CypherFile, TifFile, GwyFile\n",
    "from Display.figures import FigureSinglePlot, FigureSubplots\n",
    "from Display import attributes as attr\n",
    "\n",
    "import numpy as np\n",
    "import pandas as pd\n",
    "import h5py\n",
    "import matplotlib.pyplot as plt\n",
    "\n",
    "%reload_ext autoreload\n",
    "%autoreload 2\n"
   ]
  },
  {
   "cell_type": "markdown",
   "metadata": {
    "editable": true,
    "slideshow": {
     "slide_type": "slide"
    },
    "tags": []
   },
   "source": [
    "### 2. Initiate File object\n"
   ]
  },
  {
   "cell_type": "code",
   "execution_count": null,
   "metadata": {
    "editable": true,
    "slideshow": {
     "slide_type": "subslide"
    },
    "tags": []
   },
   "outputs": [],
   "source": [
    "\n",
    "cmd = os.path.dirname(sys.path[0])\n",
    "\n",
    "# For Cypher, the easiest is:\n",
    "datafile = CypherFile(path=cmd, filename = 'sample_89M10000')\n",
    "datafile()\n",
    "\n",
    "# For exported .gwy files, the easiest is:\n",
    "datafile = GwyFile(path=cmd, filename = 'sample_89M10000')\n",
    "datafile()\n",
    "\n",
    "# For exported .tif files, the easiest is:\n",
    "datafile = TifFile(path=cmd, filename = 'sample_89M10000')\n",
    "datafile()"
   ]
  },
  {
   "cell_type": "markdown",
   "metadata": {
    "editable": true,
    "slideshow": {
     "slide_type": "slide"
    },
    "tags": []
   },
   "source": [
    "### 3. Initiate Figure object\n",
    "### 4. Mix and tricks pre-defined plotting functions with own alterations.\n",
    "### 5. Add new custom attributes or pre-defined ones. "
   ]
  },
  {
   "cell_type": "code",
   "execution_count": null,
   "metadata": {
    "editable": true,
    "slideshow": {
     "slide_type": "subslide"
    },
    "tags": []
   },
   "outputs": [],
   "source": [
    "# Gives a figure with one single Ax. \n",
    "single_fig = FigureSinglePlot(show=True, path=cmd, filename='developing', extension='.pdf',  vmax_std = 10) #TODO: vmax_std.\n",
    "#TODO: Do plotting.\n",
    "single_fig()\n",
    "\n",
    "# Gives a figure with multiple Axes.\n",
    "multi_fig = FigureSubplots(datafile, show=True, path=cmd, filename='subplots', extension='.pdf', vmax_std = 5, ncols=2, nrows = 2)\n",
    "ax0 = multi_fig.create_subplot(0,0)\n",
    "ax1 = multi_fig.create_subplot(0,1, sharey=ax0)\n",
    "\n",
    "# Cropping etc. can be performed open-source. \n",
    "alt_data = datafile.data['CR'][150:,:150]\n",
    "ax0.plot_cAFM(datafile, key='CR', values = alt_data)\n",
    "\n",
    "# TODO: Do plotting.\n",
    "\n",
    "attr.add_polarization_direction(ax0.ax, type=\"out\", pos=(95,195))\n",
    "attr.add_polarization_direction(ax0.ax, type=\"in\", pos=(95,135))\n",
    "multi_fig.label_subplots(formatter=2, pad=0)\n",
    "\n",
    "multi_fig()"
   ]
  },
  {
   "cell_type": "markdown",
   "metadata": {
    "editable": true,
    "slideshow": {
     "slide_type": "slide"
    },
    "tags": []
   },
   "source": [
    "# Future Vision of WallPy\n",
    "More post-processing functionality. \n",
    "More visual presentation functionality. \n",
    "Retrieve SPM data even more seaminglessly."
   ]
  },
  {
   "cell_type": "markdown",
   "metadata": {
    "editable": true,
    "slideshow": {
     "slide_type": "skip"
    },
    "tags": []
   },
   "source": []
  }
 ],
 "metadata": {
  "kernelspec": {
   "display_name": "FIBSPM",
   "language": "python",
   "name": "python3"
  },
  "language_info": {
   "codemirror_mode": {
    "name": "ipython",
    "version": 3
   },
   "file_extension": ".py",
   "mimetype": "text/x-python",
   "name": "python",
   "nbconvert_exporter": "python",
   "pygments_lexer": "ipython3",
   "version": "3.8.17"
  }
 },
 "nbformat": 4,
 "nbformat_minor": 4
}
